{
  "nbformat": 4,
  "nbformat_minor": 0,
  "metadata": {
    "colab": {
      "provenance": [],
      "include_colab_link": true
    },
    "kernelspec": {
      "name": "python3",
      "display_name": "Python 3"
    },
    "language_info": {
      "name": "python"
    }
  },
  "cells": [
    {
      "cell_type": "markdown",
      "metadata": {
        "id": "view-in-github",
        "colab_type": "text"
      },
      "source": [
        "<a href=\"https://colab.research.google.com/github/saipragna25/deep-learning-assignment-2B-/blob/main/DLA2bNumPy.ipynb\" target=\"_parent\"><img src=\"https://colab.research.google.com/assets/colab-badge.svg\" alt=\"Open In Colab\"/></a>"
      ]
    },
    {
      "cell_type": "markdown",
      "source": [
        "NUMPY"
      ],
      "metadata": {
        "id": "0OSWaHrUWX8T"
      }
    },
    {
      "cell_type": "code",
      "execution_count": 1,
      "metadata": {
        "id": "RqZL6hVLFLGZ"
      },
      "outputs": [],
      "source": [
        "import numpy as np"
      ]
    },
    {
      "cell_type": "code",
      "source": [
        "# Scalar vector multiplication\n",
        "\n",
        "a = np.array([5])\n",
        "b = np.array([4, 7, 6, 8])\n",
        "c = np.einsum('i, i -> i', a, b)\n",
        "print(a)\n",
        "print(b)\n",
        "print(c)"
      ],
      "metadata": {
        "colab": {
          "base_uri": "https://localhost:8080/"
        },
        "id": "c7HOe-ZsFatj",
        "outputId": "bbd0e47c-357e-4256-883c-b65bc41dd0c6"
      },
      "execution_count": 2,
      "outputs": [
        {
          "output_type": "stream",
          "name": "stdout",
          "text": [
            "[5]\n",
            "[4 7 6 8]\n",
            "[20 35 30 40]\n"
          ]
        }
      ]
    },
    {
      "cell_type": "code",
      "source": [
        "# Vector vector multiplication\n",
        "\n",
        "a = np.random.randn(5, 8)\n",
        "b = np.random.randn(8, 4)\n",
        "c = np.einsum('ij, jk -> ik', a, b)\n",
        "print(a)\n",
        "print(b)\n",
        "print(c)"
      ],
      "metadata": {
        "colab": {
          "base_uri": "https://localhost:8080/"
        },
        "id": "lypdY6QAFcni",
        "outputId": "32353aad-fb3f-4eaf-bbb0-2df93927ba5d"
      },
      "execution_count": 3,
      "outputs": [
        {
          "output_type": "stream",
          "name": "stdout",
          "text": [
            "[[ 0.11758502 -0.83939882  0.4014455   0.2024525  -0.76629728 -0.63077949\n",
            "   0.15361533  0.55781273]\n",
            " [-2.06324322  1.63712883  0.76455973  3.04716907  1.30972268 -0.96819733\n",
            "   0.35150093 -1.27102686]\n",
            " [ 1.25383626 -1.78100693 -0.22731336 -0.73130693  0.92294403  0.24027915\n",
            "  -0.6419564   0.47934183]\n",
            " [-1.24236545  1.27189565 -0.27399734 -0.6800829  -1.21754787  0.08075385\n",
            "  -1.34535684 -0.09597031]\n",
            " [ 1.03574621 -1.36274281  0.4393597   0.25347263 -0.08911126 -0.51806398\n",
            "   0.23982865  0.97738324]]\n",
            "[[ 1.65954539 -0.42824479 -0.1692948  -0.78438275]\n",
            " [ 1.58333028  0.19950346 -0.8776605   1.76589518]\n",
            " [-0.19440198 -1.71677109 -0.78718628 -0.67532792]\n",
            " [ 0.3794075  -0.88053243  1.25821931 -0.21370678]\n",
            " [ 0.42950953 -0.64945234 -1.03876731 -1.05780566]\n",
            " [ 0.5870304   0.80460016 -0.67154408  0.10780458]\n",
            " [ 1.02940373 -0.13357065 -0.81093682  0.06549848]\n",
            " [ 1.45562692 -0.9504807   1.52490072  2.02794976]]\n",
            "[[-0.86445701 -1.64583461  2.60115541 -0.00502439]\n",
            " [-1.31857068 -3.25399711 -0.78893564 -0.70252295]\n",
            " [-0.3980222  -0.63401956  0.74109758 -3.839121  ]\n",
            " [-2.25284964  2.98164185  0.60920032  4.56479367]\n",
            " [ 0.89914533 -3.01287455  2.73014051 -1.53355785]]\n"
          ]
        }
      ]
    },
    {
      "cell_type": "code",
      "source": [
        "# Outer product\n",
        "\n",
        "a = np.arange(2, 5)\n",
        "b = np.arange(4, 7)  \n",
        "op = np.einsum('i,j -> ij', a, b)\n",
        "print(a)\n",
        "print(b)\n",
        "print(op)"
      ],
      "metadata": {
        "colab": {
          "base_uri": "https://localhost:8080/"
        },
        "id": "SiKW6k1KFev4",
        "outputId": "e02ae7cb-69d9-4741-ced4-9544d4b1d989"
      },
      "execution_count": 4,
      "outputs": [
        {
          "output_type": "stream",
          "name": "stdout",
          "text": [
            "[2 3 4]\n",
            "[4 5 6]\n",
            "[[ 8 10 12]\n",
            " [12 15 18]\n",
            " [16 20 24]]\n"
          ]
        }
      ]
    },
    {
      "cell_type": "code",
      "source": [
        "# Scalar dot product\n",
        "\n",
        "a = np.arange(9).reshape(3, 3)\n",
        "b = np.arange(6).reshape(3, 2)\n",
        "sd = np.einsum('ij, jk ->', a, b)\n",
        "print(a)\n",
        "print(b)\n",
        "print(sd)"
      ],
      "metadata": {
        "colab": {
          "base_uri": "https://localhost:8080/"
        },
        "id": "mIOx2ysoFgtp",
        "outputId": "1f61c3a2-3b67-4459-8aff-d4d7adb455c2"
      },
      "execution_count": 5,
      "outputs": [
        {
          "output_type": "stream",
          "name": "stdout",
          "text": [
            "[[0 1 2]\n",
            " [3 4 5]\n",
            " [6 7 8]]\n",
            "[[0 1]\n",
            " [2 3]\n",
            " [4 5]]\n",
            "204\n"
          ]
        }
      ]
    },
    {
      "cell_type": "code",
      "source": [
        "# Hadamard product\n",
        "\n",
        "a = np.arange(6).reshape(2, 3)\n",
        "b = np.arange(6, 12).reshape(2, 3)\n",
        "hp = np.einsum('ij, ij -> ij', a, b)\n",
        "print(a)\n",
        "print(b)\n",
        "print(hp)"
      ],
      "metadata": {
        "colab": {
          "base_uri": "https://localhost:8080/"
        },
        "id": "6R8Ry3ExFjNZ",
        "outputId": "f61906a5-380b-43f9-9d97-a955497555a0"
      },
      "execution_count": 6,
      "outputs": [
        {
          "output_type": "stream",
          "name": "stdout",
          "text": [
            "[[0 1 2]\n",
            " [3 4 5]]\n",
            "[[ 6  7  8]\n",
            " [ 9 10 11]]\n",
            "[[ 0  7 16]\n",
            " [27 40 55]]\n"
          ]
        }
      ]
    },
    {
      "cell_type": "code",
      "source": [
        "# Batch matrix multiplication\n",
        "\n",
        "a = np.random.randn(3, 3, 2)\n",
        "b = np.random.randn(3, 2, 2)\n",
        "batch_matrix_mul = np.einsum('bij, bjk -> bik', a, b)\n",
        "print(a)\n",
        "print(b)\n",
        "print(batch_matrix_mul)"
      ],
      "metadata": {
        "colab": {
          "base_uri": "https://localhost:8080/"
        },
        "id": "q9THP3RRFla1",
        "outputId": "790946e3-901f-4ae8-ba8e-c2901d9d7a35"
      },
      "execution_count": 7,
      "outputs": [
        {
          "output_type": "stream",
          "name": "stdout",
          "text": [
            "[[[ 0.3660221   1.16746191]\n",
            "  [ 0.64007015  0.76661596]\n",
            "  [ 0.6362116  -1.51477969]]\n",
            "\n",
            " [[ 0.43188904 -1.88776141]\n",
            "  [-0.82670685 -1.32794853]\n",
            "  [-0.49204884 -2.177318  ]]\n",
            "\n",
            " [[-1.75830366 -0.5881517 ]\n",
            "  [-0.2595577   0.24517038]\n",
            "  [ 1.19503348 -1.864766  ]]]\n",
            "[[[-1.43382497 -0.31511392]\n",
            "  [-0.59181921 -0.11593465]]\n",
            "\n",
            " [[ 0.01339535  0.81841116]\n",
            "  [ 1.0712573   0.4308367 ]]\n",
            "\n",
            " [[-0.38577912 -0.59837473]\n",
            "  [ 0.69396116  0.75084708]]]\n",
            "[[[-1.215738   -0.25068794]\n",
            "  [-1.37144661 -0.29057236]\n",
            "  [-0.01574037 -0.02486368]]\n",
            "\n",
            " [[-2.01649289 -0.45985408]\n",
            "  [-1.43364858 -1.24871506]\n",
            "  [-2.33905896 -1.34076675]]\n",
            "\n",
            " [[ 0.2701624   0.61051248]\n",
            "  [ 0.27027066  0.33939823]\n",
            "  [-1.75509415 -2.11523193]]]\n"
          ]
        }
      ]
    },
    {
      "cell_type": "code",
      "source": [
        "# Tensor reduction\n",
        "\n",
        "a = np.random.randn(2, 3, 5, 7)\n",
        "b = np.random.randn(4, 1, 3, 11, 5)\n",
        "tensor_reduction = np.einsum('pqrs, tuqvr -> pstuv', a, b)\n",
        "print(a.shape, b.shape, tensor_reduction.shape)"
      ],
      "metadata": {
        "colab": {
          "base_uri": "https://localhost:8080/"
        },
        "id": "VQKeTPfTFmli",
        "outputId": "46fff750-9ded-4530-8bd3-ac4df669177f"
      },
      "execution_count": 8,
      "outputs": [
        {
          "output_type": "stream",
          "name": "stdout",
          "text": [
            "(2, 3, 5, 7) (4, 1, 3, 11, 5) (2, 7, 4, 1, 11)\n"
          ]
        }
      ]
    },
    {
      "cell_type": "code",
      "source": [
        "# Transpose\n",
        "\n",
        "a = np.arange(6).reshape(2, 3)\n",
        "transpose = np.einsum('ij -> ji', a)\n",
        "print(a)\n",
        "print(transpose)"
      ],
      "metadata": {
        "colab": {
          "base_uri": "https://localhost:8080/"
        },
        "id": "Sbmsyq1bFpyq",
        "outputId": "ccba098b-7838-4a3b-dbfd-4181d0e29259"
      },
      "execution_count": 9,
      "outputs": [
        {
          "output_type": "stream",
          "name": "stdout",
          "text": [
            "[[0 1 2]\n",
            " [3 4 5]]\n",
            "[[0 3]\n",
            " [1 4]\n",
            " [2 5]]\n"
          ]
        }
      ]
    },
    {
      "cell_type": "code",
      "source": [
        "# Bilinear transformation\n",
        "\n",
        "a = np.random.randn(2, 3)\n",
        "b = np.random.randn(3, 3, 4)\n",
        "c = np.random.randn(2, 4)\n",
        "bilinear_transform = np.einsum('ik, jkl, il -> ij', a, b, c)\n",
        "print(a)\n",
        "print(b)\n",
        "print(c)\n",
        "print(bilinear_transform)"
      ],
      "metadata": {
        "colab": {
          "base_uri": "https://localhost:8080/"
        },
        "id": "nv7PFH-PFtL4",
        "outputId": "66f41838-ec14-487b-dfa9-b6065a948111"
      },
      "execution_count": 10,
      "outputs": [
        {
          "output_type": "stream",
          "name": "stdout",
          "text": [
            "[[ 1.10294739 -0.15737974  2.13059427]\n",
            " [-0.68971427  1.12839421  0.14268645]]\n",
            "[[[-0.20549254 -0.88648725 -1.82254038 -1.18369266]\n",
            "  [-0.27143815 -0.52203765 -0.97402936 -1.49241793]\n",
            "  [ 0.24705912 -0.47481361 -0.00589876 -0.98482658]]\n",
            "\n",
            " [[ 0.60659412 -1.74238307 -0.18101148 -1.30691094]\n",
            "  [ 0.60281994 -1.06015815 -2.0657196  -0.07606493]\n",
            "  [ 1.23250454 -0.88085221 -1.43373865 -0.74542282]]\n",
            "\n",
            " [[-0.33660595 -0.76032103  0.73089189  1.25098827]\n",
            "  [ 0.37501483  0.19332223  2.59418736 -1.35725301]\n",
            "  [ 2.11740711  0.8143601  -1.36110312 -0.33155631]]]\n",
            "[[ 1.46010389  0.01349315  0.24658769 -0.50926541]\n",
            " [-0.78902583 -1.86462563  0.06341826  0.61092944]]\n",
            "[[ 1.62713455  5.43800895  4.90176575]\n",
            " [-0.41928111  0.15918919 -3.70701374]]\n"
          ]
        }
      ]
    },
    {
      "cell_type": "code",
      "source": [
        "# Attention\n",
        "\n",
        "# Parameters\n",
        "# [hidden_dimension]\n",
        "bm = np.random.randn(7)\n",
        "br = np.random.randn(7) \n",
        "w = np.random.randn(7)\n",
        "# [hidden_dimension x hidden_dimension]\n",
        "WY = np.random.randn(7, 7)\n",
        "Wh = np.random.randn(7, 7)\n",
        "Wr = np.random.randn(7, 7)\n",
        "Wt = np.random.randn(7, 7)\n",
        "\n",
        "def attention(Y, ht, rt1):\n",
        "  # [batch_size x hidden_dimension] \n",
        "  tmp = np.einsum('ik, kl -> il', ht, Wh) + np.einsum('ik, kl -> il', rt1, Wr)\n",
        "\n",
        "  tmp_expanded = np.expand_dims(tmp, 1)\n",
        "  tmp_tiled = np.tile(tmp_expanded, [1, Y.shape[1], 1]) \n",
        "  Mt = np.tanh(np.einsum('ijk, kl -> ijl', Y, WY) + tmp_tiled + bm)\n",
        "  \n",
        "  # [batch_size x sequence_length]\n",
        "  at = np.einsum('ijk, k -> ij', Mt, w)\n",
        "  at = np.exp(at)/np.sum(np.exp(at))\n",
        "  \n",
        "  # [batch_size x hidden_dimension]\n",
        "  rt = np.einsum('ijk, ij -> ik', Y, at) + np.tanh(np.einsum('ij, jk -> ik', rt1, Wt) + br)\n",
        "  \n",
        "  return rt, at\n",
        "\n",
        "# Inputs - [batch_size x sequence_length x hidden_dimension]\n",
        "Y = np.random.randn(3,5,7)\n",
        "# [batch_size x hidden_dimension]\n",
        "ht = np.random.randn(3, 7)\n",
        "rt1 = np.random.randn(3, 7)\n",
        "\n",
        "rt, at = attention(Y, ht, rt1)\n",
        "\n",
        "print(at)"
      ],
      "metadata": {
        "colab": {
          "base_uri": "https://localhost:8080/"
        },
        "id": "mXQ27HwyFvwU",
        "outputId": "5a6d5ec0-5b94-4c00-ffa4-46f2c50f24b4"
      },
      "execution_count": 11,
      "outputs": [
        {
          "output_type": "stream",
          "name": "stdout",
          "text": [
            "[[0.03357665 0.01150208 0.00280826 0.0040188  0.03702644]\n",
            " [0.10210131 0.1395247  0.15248223 0.24607468 0.2499145 ]\n",
            " [0.01303337 0.00400078 0.00146563 0.00043518 0.00203538]]\n"
          ]
        }
      ]
    },
    {
      "cell_type": "code",
      "source": [
        "# Treeqn\n",
        "\n",
        "def transition(zl):\n",
        "  # [batch_size x num_actions x hidden_dimension]\n",
        "  return np.expand_dims(zl, 1) + np.tanh(np.einsum('bk, aki -> bai', zl, W) + b)\n",
        "\n",
        "# Inputs - [batch_size x hidden_dimension]\n",
        "zl = np.random.rand(2, 3)\n",
        "# Parameters - [num_actions x hidden_dimension]\n",
        "b = np.random.rand(5, 3)\n",
        "# Actions - [num_actions x hidden_dimension x hidden_dimension]\n",
        "W = np.random.rand(5, 3, 3)\n",
        "\n",
        "transition(zl)"
      ],
      "metadata": {
        "colab": {
          "base_uri": "https://localhost:8080/"
        },
        "id": "rqwteeTRFyIE",
        "outputId": "ca021df3-f3b1-4678-d246-8c26b8f460f1"
      },
      "execution_count": 12,
      "outputs": [
        {
          "output_type": "execute_result",
          "data": {
            "text/plain": [
              "array([[[1.89538956, 1.30033334, 1.62667387],\n",
              "        [1.87882896, 1.61962213, 1.49625184],\n",
              "        [1.78359614, 1.66217099, 1.64809212],\n",
              "        [1.44683975, 1.5938915 , 1.50915968],\n",
              "        [1.92048609, 1.62395541, 1.57652446]],\n",
              "\n",
              "       [[1.49114789, 0.68021832, 0.96546328],\n",
              "        [1.45949992, 0.98625242, 0.86208566],\n",
              "        [1.27719473, 1.05514509, 1.11672489],\n",
              "        [0.93946149, 0.99054312, 0.97190754],\n",
              "        [1.58477788, 1.06963105, 0.87262261]]])"
            ]
          },
          "metadata": {},
          "execution_count": 12
        }
      ]
    }
  ]
}