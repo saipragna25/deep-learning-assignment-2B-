{
  "nbformat": 4,
  "nbformat_minor": 0,
  "metadata": {
    "colab": {
      "provenance": [],
      "include_colab_link": true
    },
    "kernelspec": {
      "name": "python3",
      "display_name": "Python 3"
    },
    "language_info": {
      "name": "python"
    }
  },
  "cells": [
    {
      "cell_type": "markdown",
      "metadata": {
        "id": "view-in-github",
        "colab_type": "text"
      },
      "source": [
        "<a href=\"https://colab.research.google.com/github/saipragna25/deep-learning-assignment-2B-/blob/main/DLA2bTensorFlow.ipynb\" target=\"_parent\"><img src=\"https://colab.research.google.com/assets/colab-badge.svg\" alt=\"Open In Colab\"/></a>"
      ]
    },
    {
      "cell_type": "markdown",
      "source": [
        "TENSORFLOW"
      ],
      "metadata": {
        "id": "aMgsLMmnW-CX"
      }
    },
    {
      "cell_type": "code",
      "execution_count": 1,
      "metadata": {
        "id": "uwWF9qka9Xkq"
      },
      "outputs": [],
      "source": [
        "import tensorflow as tf\n"
      ]
    },
    {
      "cell_type": "code",
      "source": [
        "# Scalar vector multiplication\n",
        "\n",
        "a = tf.random.normal([1])\n",
        "b = tf.random.normal([2, 3])\n",
        "c = tf.einsum('k, ij -> ij', a, b)\n",
        "print(a)\n",
        "print(b)\n",
        "print(c)"
      ],
      "metadata": {
        "colab": {
          "base_uri": "https://localhost:8080/"
        },
        "id": "xFEEKLsjECYF",
        "outputId": "a2fec3bc-8755-4008-a0cb-bb7647a50db0"
      },
      "execution_count": 2,
      "outputs": [
        {
          "output_type": "stream",
          "name": "stdout",
          "text": [
            "tf.Tensor([-1.1624095], shape=(1,), dtype=float32)\n",
            "tf.Tensor(\n",
            "[[-1.6178854  -0.6592076   1.523907  ]\n",
            " [ 0.00492522 -0.462747   -0.43305263]], shape=(2, 3), dtype=float32)\n",
            "tf.Tensor(\n",
            "[[ 1.8806454   0.7662692  -1.771404  ]\n",
            " [-0.00572512  0.5379015   0.50338453]], shape=(2, 3), dtype=float32)\n"
          ]
        }
      ]
    },
    {
      "cell_type": "code",
      "source": [
        "# Vector vector multiplication\n",
        "\n",
        "a = tf.random.normal([2, 5])\n",
        "b = tf.random.normal([5, 3])\n",
        "c = tf.einsum('ij, jk -> ik', a, b)\n",
        "print(a)\n",
        "print(b)\n",
        "print(c)"
      ],
      "metadata": {
        "colab": {
          "base_uri": "https://localhost:8080/"
        },
        "id": "H5dL2dVEELFb",
        "outputId": "d9162535-f89f-470a-b965-965a5143cebf"
      },
      "execution_count": 4,
      "outputs": [
        {
          "output_type": "stream",
          "name": "stdout",
          "text": [
            "tf.Tensor(\n",
            "[[ 0.60341823  1.6685785  -0.2892078  -1.7653204  -0.28580981]\n",
            " [-0.17326589 -1.2343231  -0.08450568 -0.95075023  0.49663165]], shape=(2, 5), dtype=float32)\n",
            "tf.Tensor(\n",
            "[[ 0.11722741  0.12966025  1.5570756 ]\n",
            " [ 0.22750297  0.200385    0.6265682 ]\n",
            " [ 0.8471231   0.29310304  0.36752018]\n",
            " [-0.38565868 -0.9017129   0.6479903 ]\n",
            " [ 0.44674206  0.1531417   2.6534092 ]], shape=(5, 3), dtype=float32)\n",
            "tf.Tensor(\n",
            "[[ 0.75847703  1.8758725  -0.02352458]\n",
            " [ 0.21582094  0.6387843  -0.3725431 ]], shape=(2, 3), dtype=float32)\n"
          ]
        }
      ]
    },
    {
      "cell_type": "code",
      "source": [
        "# Outer product\n",
        "\n",
        "a = tf.range(4)\n",
        "b = tf.range(3, 6)  \n",
        "op= tf.einsum('i,j -> ij', a, b)\n",
        "print(a)\n",
        "print(b)\n",
        "print(op)"
      ],
      "metadata": {
        "colab": {
          "base_uri": "https://localhost:8080/"
        },
        "id": "JPmDPFlyEbSR",
        "outputId": "1aa346b5-1837-4b22-e18a-cfd9dd87eaa3"
      },
      "execution_count": 5,
      "outputs": [
        {
          "output_type": "stream",
          "name": "stdout",
          "text": [
            "tf.Tensor([0 1 2 3], shape=(4,), dtype=int32)\n",
            "tf.Tensor([3 4 5], shape=(3,), dtype=int32)\n",
            "tf.Tensor(\n",
            "[[ 0  0  0]\n",
            " [ 3  4  5]\n",
            " [ 6  8 10]\n",
            " [ 9 12 15]], shape=(4, 3), dtype=int32)\n"
          ]
        }
      ]
    },
    {
      "cell_type": "code",
      "source": [
        "# Scalar dot product\n",
        "\n",
        "a = tf.range(9)\n",
        "a = tf.reshape(a, [3, 3])\n",
        "\n",
        "b = tf.range(6)\n",
        "b = tf.reshape(b, [3, 2])\n",
        "\n",
        "sp= tf.einsum('ij, jk ->', a, b)\n",
        "print(a)\n",
        "print(b)\n",
        "print(sp)"
      ],
      "metadata": {
        "colab": {
          "base_uri": "https://localhost:8080/"
        },
        "id": "O6Mmj0PpExCv",
        "outputId": "922ea204-aa8e-4bf1-b8a7-a5a8ad5ea9fa"
      },
      "execution_count": 6,
      "outputs": [
        {
          "output_type": "stream",
          "name": "stdout",
          "text": [
            "tf.Tensor(\n",
            "[[0 1 2]\n",
            " [3 4 5]\n",
            " [6 7 8]], shape=(3, 3), dtype=int32)\n",
            "tf.Tensor(\n",
            "[[0 1]\n",
            " [2 3]\n",
            " [4 5]], shape=(3, 2), dtype=int32)\n",
            "tf.Tensor(204, shape=(), dtype=int32)\n"
          ]
        }
      ]
    },
    {
      "cell_type": "code",
      "source": [
        "# Hadamard product\n",
        "\n",
        "a = tf.range(8)\n",
        "a = tf.reshape(a, [2, 4])\n",
        "\n",
        "b = tf.range(4, 12)\n",
        "b = tf.reshape(b, [2, 4])\n",
        "\n",
        "hp = tf.einsum('ij, ij -> ij', a, b)\n",
        "print(a)\n",
        "print(b)\n",
        "print(hp)"
      ],
      "metadata": {
        "colab": {
          "base_uri": "https://localhost:8080/"
        },
        "id": "z4ryCzNcEz_C",
        "outputId": "643c75be-3037-42e2-bd14-3daf406d6662"
      },
      "execution_count": 7,
      "outputs": [
        {
          "output_type": "stream",
          "name": "stdout",
          "text": [
            "tf.Tensor(\n",
            "[[0 1 2 3]\n",
            " [4 5 6 7]], shape=(2, 4), dtype=int32)\n",
            "tf.Tensor(\n",
            "[[ 4  5  6  7]\n",
            " [ 8  9 10 11]], shape=(2, 4), dtype=int32)\n",
            "tf.Tensor(\n",
            "[[ 0  5 12 21]\n",
            " [32 45 60 77]], shape=(2, 4), dtype=int32)\n"
          ]
        }
      ]
    },
    {
      "cell_type": "code",
      "source": [
        "# Batch matrix multiplication\n",
        "\n",
        "a = tf.random.normal([3, 3, 2])\n",
        "b = tf.random.normal([3, 2, 2])\n",
        "batch_matrix_mult = tf.einsum('bij, bjk -> bik', a, b)\n",
        "print(a)\n",
        "print(b)\n",
        "print(batch_matrix_mult)"
      ],
      "metadata": {
        "colab": {
          "base_uri": "https://localhost:8080/"
        },
        "id": "yrChUbk2E2pt",
        "outputId": "12e8bac5-ae32-4266-c680-07d0c41f7878"
      },
      "execution_count": 8,
      "outputs": [
        {
          "output_type": "stream",
          "name": "stdout",
          "text": [
            "tf.Tensor(\n",
            "[[[ 0.42498678  2.7804027 ]\n",
            "  [ 1.6914704  -0.84602237]\n",
            "  [-0.52680355  1.9482635 ]]\n",
            "\n",
            " [[-0.49061704 -0.1871664 ]\n",
            "  [-1.5978361   0.25197294]\n",
            "  [ 0.22614114  1.1866479 ]]\n",
            "\n",
            " [[-0.25605118  0.1734079 ]\n",
            "  [ 2.3687525   0.48377344]\n",
            "  [ 0.27022123  0.1915116 ]]], shape=(3, 3, 2), dtype=float32)\n",
            "tf.Tensor(\n",
            "[[[-1.1861887   0.16841118]\n",
            "  [ 0.6075002  -0.6664281 ]]\n",
            "\n",
            " [[-1.3733747   0.5167136 ]\n",
            "  [ 0.17233083  0.6139628 ]]\n",
            "\n",
            " [[-0.16240478  0.3907017 ]\n",
            "  [-0.8181836  -1.9224372 ]]], shape=(3, 2, 2), dtype=float32)\n",
            "tf.Tensor(\n",
            "[[[ 1.1849806  -1.7813659 ]\n",
            "  [-2.5203617   0.8486756 ]\n",
            "  [ 1.8084589  -1.3870971 ]]\n",
            "\n",
            " [[ 0.6415465  -0.36842173]\n",
            "  [ 2.2378504  -0.6709217 ]\n",
            "  [-0.10608052  0.8454079 ]]\n",
            "\n",
            " [[-0.10029556 -0.43340543]\n",
            "  [-0.7805122  -0.00454837]\n",
            "  [-0.20057687 -0.26259315]]], shape=(3, 3, 2), dtype=float32)\n"
          ]
        }
      ]
    },
    {
      "cell_type": "code",
      "source": [
        "# Tensor reduction\n",
        "\n",
        "a = tf.random.normal([2, 3, 5, 7])\n",
        "b = tf.random.normal([4, 1, 3, 11, 5])\n",
        "tensor_reduction = tf.einsum('pqrs, tuqvr -> pstuv', a, b)\n",
        "print(a.shape, b.shape, tensor_reduction.shape)"
      ],
      "metadata": {
        "colab": {
          "base_uri": "https://localhost:8080/"
        },
        "id": "KQKRJ9STE53y",
        "outputId": "e99b796c-5dc6-497e-86ee-d828b2b5bc1d"
      },
      "execution_count": 9,
      "outputs": [
        {
          "output_type": "stream",
          "name": "stdout",
          "text": [
            "(2, 3, 5, 7) (4, 1, 3, 11, 5) (2, 7, 4, 1, 11)\n"
          ]
        }
      ]
    },
    {
      "cell_type": "code",
      "source": [
        "# Transpose\n",
        "\n",
        "a = tf.range(8)\n",
        "a = tf.reshape(a, [4, 2])\n",
        "transpose = tf.einsum('ij -> ji', a)\n",
        "print(a)\n",
        "print(transpose)"
      ],
      "metadata": {
        "colab": {
          "base_uri": "https://localhost:8080/"
        },
        "id": "pnDpeYTOE9R_",
        "outputId": "73692c39-5cf4-49e6-d1fa-c8baa561b6a6"
      },
      "execution_count": 10,
      "outputs": [
        {
          "output_type": "stream",
          "name": "stdout",
          "text": [
            "tf.Tensor(\n",
            "[[0 1]\n",
            " [2 3]\n",
            " [4 5]\n",
            " [6 7]], shape=(4, 2), dtype=int32)\n",
            "tf.Tensor(\n",
            "[[0 2 4 6]\n",
            " [1 3 5 7]], shape=(2, 4), dtype=int32)\n"
          ]
        }
      ]
    },
    {
      "cell_type": "code",
      "source": [
        "# Bilinear transformation\n",
        "\n",
        "a = tf.random.normal([2, 3])\n",
        "b = tf.random.normal([3, 3, 4])\n",
        "c = tf.random.normal([2, 4])\n",
        "bilinear_transform = tf.einsum('ik, jkl, il -> ij', a, b, c)\n",
        "print(a)\n",
        "print(b)\n",
        "print(c)\n",
        "print(bilinear_transform)"
      ],
      "metadata": {
        "colab": {
          "base_uri": "https://localhost:8080/"
        },
        "id": "sx20MusvFAeh",
        "outputId": "62a697a3-155c-4fa0-b2b8-8f2a0b3c51c4"
      },
      "execution_count": 11,
      "outputs": [
        {
          "output_type": "stream",
          "name": "stdout",
          "text": [
            "tf.Tensor(\n",
            "[[-0.6954806  -1.0824219   0.19930811]\n",
            " [ 0.4508692   0.4881065   1.4258547 ]], shape=(2, 3), dtype=float32)\n",
            "tf.Tensor(\n",
            "[[[ 1.0065144  -2.2945285   0.4335356  -0.63619435]\n",
            "  [-0.1890557   0.3767921  -1.5309983  -0.07226737]\n",
            "  [-1.4231861  -0.06285733 -0.21785803 -1.4176905 ]]\n",
            "\n",
            " [[ 0.6462956  -1.1730558   1.2180301  -0.2377255 ]\n",
            "  [-0.33302912  0.5950922   0.01317004  0.4761292 ]\n",
            "  [ 0.18212163  0.9193005   1.000511   -1.0902238 ]]\n",
            "\n",
            " [[-1.4421568  -0.3345002   1.4541928  -0.45049998]\n",
            "  [ 0.03094517 -0.14419581  0.05774543 -0.42188388]\n",
            "  [ 0.4740459  -0.20740335 -0.6087009   0.6669906 ]]], shape=(3, 3, 4), dtype=float32)\n",
            "tf.Tensor(\n",
            "[[ 0.32929042 -1.9315276  -0.50193876 -1.3795474 ]\n",
            " [-0.3145737   0.9259973   1.050156   -0.9860585 ]], shape=(2, 4), dtype=float32)\n",
            "tf.Tensor(\n",
            "[[-3.514067    0.41202655 -0.9663125 ]\n",
            " [ 1.0591105   4.361745   -1.2192565 ]], shape=(2, 3), dtype=float32)\n"
          ]
        }
      ]
    },
    {
      "cell_type": "code",
      "source": [
        "# Attention\n",
        "\n",
        "# Parameters\n",
        "# [hidden_dimension]\n",
        "bM = tf.random.normal([7])\n",
        "br = tf.random.normal([7]) \n",
        "w = tf.random.normal([7])\n",
        "# [hidden_dimension x hidden_dimension]\n",
        "WY = tf.random.normal([7, 7])\n",
        "Wh = tf.random.normal([7, 7])\n",
        "Wr = tf.random.normal([7, 7])\n",
        "Wt = tf.random.normal([7, 7])\n",
        "\n",
        "def attention(Y, ht, rt1):\n",
        "  # [batch_size x hidden_dimension] \n",
        "  tmp = tf.einsum('ik, kl -> il', ht, Wh) + tf.einsum('ik, kl -> il', rt1, Wr)\n",
        "\n",
        "  tmp_expanded = tf.expand_dims(tmp, 1)\n",
        "  tmp_tiled = tf.tile(tmp_expanded, [1, Y.shape[1], 1]) \n",
        "  Mt = tf.tanh(tf.einsum('ijk, kl -> ijl', Y, WY) + tmp_tiled + bM)\n",
        "  \n",
        "  # [batch_size x sequence_length]\n",
        "  at = tf.nn.softmax(tf.einsum('ijk, k -> ij', Mt, w)) \n",
        "  \n",
        "  # [batch_size x hidden_dimension]\n",
        "  rt = tf.einsum('ijk, ij -> ik', Y, at) + tf.tanh(tf.einsum('ij, jk -> ik', rt1, Wt) + br)\n",
        "  \n",
        "  return rt, at\n",
        "\n",
        "# Inputs - [batch_size x sequence_length x hidden_dimension]\n",
        "Y = tf.random.normal([3,5,7])\n",
        "# [batch_size x hidden_dimension]\n",
        "ht = tf.random.normal([3, 7])\n",
        "rt1 = tf.random.normal([3, 7])\n",
        "\n",
        "rt, at = attention(Y, ht, rt1)\n",
        "\n",
        "print(at)"
      ],
      "metadata": {
        "colab": {
          "base_uri": "https://localhost:8080/"
        },
        "id": "3mQhHbb1FDIE",
        "outputId": "609ee981-157c-4cfb-bd9a-05d0bb01cc2c"
      },
      "execution_count": 12,
      "outputs": [
        {
          "output_type": "stream",
          "name": "stdout",
          "text": [
            "tf.Tensor(\n",
            "[[1.64319366e-01 6.23683259e-02 6.27312809e-02 6.47128642e-01\n",
            "  6.34524003e-02]\n",
            " [1.55577045e-02 6.80592060e-01 2.01225936e-01 8.85632485e-02\n",
            "  1.40611008e-02]\n",
            " [5.44860261e-04 2.09528938e-04 1.02063246e-01 7.98429549e-03\n",
            "  8.89198005e-01]], shape=(3, 5), dtype=float32)\n"
          ]
        }
      ]
    },
    {
      "cell_type": "code",
      "source": [
        "# Treeqn\n",
        "\n",
        "def transition(zl):\n",
        "  # [batch_size x num_actions x hidden_dimension]\n",
        "  return tf.expand_dims(zl, 1) + tf.tanh(tf.einsum('bk, aki -> bai', zl, W) + b)\n",
        "\n",
        "# Inputs - [batch_size x hidden_dimension]\n",
        "zl = tf.random.normal([2, 3])\n",
        "# Parameters - [num_actions x hidden_dimension]\n",
        "b = tf.random.normal([5, 3])\n",
        "# Actions - [num_actions x hidden_dimension x hidden_dimension]\n",
        "W = tf.random.normal([5, 3, 3])\n",
        "\n",
        "transition(zl)"
      ],
      "metadata": {
        "colab": {
          "base_uri": "https://localhost:8080/"
        },
        "id": "Km9kUU5tFGiw",
        "outputId": "f044c5ce-d915-4836-f0a6-b43bee576f10"
      },
      "execution_count": 13,
      "outputs": [
        {
          "output_type": "execute_result",
          "data": {
            "text/plain": [
              "<tf.Tensor: shape=(2, 5, 3), dtype=float32, numpy=\n",
              "array([[[ 0.2714504 ,  1.0510089 ,  0.7371785 ],\n",
              "        [ 1.4759377 ,  1.6823572 ,  0.77424926],\n",
              "        [ 2.1360867 ,  1.6881757 ,  0.56467247],\n",
              "        [ 0.2662291 ,  0.09769791,  0.77615154],\n",
              "        [ 0.29988843,  1.6840495 , -0.8147847 ]],\n",
              "\n",
              "       [[-1.2604777 ,  1.0766848 ,  1.0638258 ],\n",
              "        [ 0.20449924,  1.1590903 ,  0.65969783],\n",
              "        [ 0.19153205,  0.67433715,  1.1238798 ],\n",
              "        [-1.266081  ,  0.8745402 , -0.22465064],\n",
              "        [-0.40437126,  1.1931056 ,  0.90246016]]], dtype=float32)>"
            ]
          },
          "metadata": {},
          "execution_count": 13
        }
      ]
    }
  ]
}